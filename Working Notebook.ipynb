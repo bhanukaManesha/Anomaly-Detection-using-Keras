{
 "cells": [
  {
   "cell_type": "markdown",
   "metadata": {},
   "source": [
    "# Anomaly Detection using Keras"
   ]
  },
  {
   "cell_type": "code",
   "execution_count": 1,
   "metadata": {},
   "outputs": [
    {
     "name": "stderr",
     "output_type": "stream",
     "text": [
      "Using TensorFlow backend.\n",
      "WARNING: Logging before flag parsing goes to stderr.\n",
      "W0813 03:04:12.612862 139910571472704 __init__.py:689] \n",
      "\n",
      "  TensorFlow's `tf-nightly` package will soon be updated to TensorFlow 2.0.\n",
      "\n",
      "  Please upgrade your code to TensorFlow 2.0:\n",
      "    * https://www.tensorflow.org/beta/guide/migration_guide\n",
      "\n",
      "  Or install the latest stable TensorFlow 1.X release:\n",
      "    * `pip install -U \"tensorflow==1.*\"`\n",
      "\n",
      "  Otherwise your code may be broken by the change.\n",
      "\n",
      "  \n"
     ]
    }
   ],
   "source": [
    "import matplotlib.pyplot as plt\n",
    "import numpy as np\n",
    "import pandas as pd\n",
    "import tqdm\n",
    "\n",
    "from sklearn.preprocessing import StandardScaler, MinMaxScaler\n",
    "from sklearn.metrics import mean_squared_log_error, mean_squared_error\n",
    "import re\n",
    "from datetime import datetime\n",
    "\n",
    "from keras.models import *\n",
    "from keras.layers import *\n",
    "from keras.layers.core import Lambda\n",
    "from keras import backend as K\n",
    "\n",
    "from keras.models import load_model\n",
    "import keras.losses"
   ]
  },
  {
   "cell_type": "code",
   "execution_count": 2,
   "metadata": {},
   "outputs": [
    {
     "data": {
      "text/html": [
       "<div>\n",
       "<style scoped>\n",
       "    .dataframe tbody tr th:only-of-type {\n",
       "        vertical-align: middle;\n",
       "    }\n",
       "\n",
       "    .dataframe tbody tr th {\n",
       "        vertical-align: top;\n",
       "    }\n",
       "\n",
       "    .dataframe thead th {\n",
       "        text-align: right;\n",
       "    }\n",
       "</style>\n",
       "<table border=\"1\" class=\"dataframe\">\n",
       "  <thead>\n",
       "    <tr style=\"text-align: right;\">\n",
       "      <th></th>\n",
       "      <th>datetime</th>\n",
       "      <th>total</th>\n",
       "      <th>total_tcp</th>\n",
       "      <th>total_http</th>\n",
       "      <th>total_udp</th>\n",
       "      <th>size</th>\n",
       "      <th>size_tcp</th>\n",
       "      <th>size_http</th>\n",
       "      <th>size_udp</th>\n",
       "    </tr>\n",
       "  </thead>\n",
       "  <tbody>\n",
       "    <tr>\n",
       "      <th>0</th>\n",
       "      <td>2012-03-16 12:35:00</td>\n",
       "      <td>1800</td>\n",
       "      <td>400</td>\n",
       "      <td>1000</td>\n",
       "      <td>400</td>\n",
       "      <td>92484</td>\n",
       "      <td>400</td>\n",
       "      <td>3000</td>\n",
       "      <td>450</td>\n",
       "    </tr>\n",
       "    <tr>\n",
       "      <th>1</th>\n",
       "      <td>2012-03-16 12:40:00</td>\n",
       "      <td>1800</td>\n",
       "      <td>400</td>\n",
       "      <td>1000</td>\n",
       "      <td>400</td>\n",
       "      <td>92484</td>\n",
       "      <td>400</td>\n",
       "      <td>3000</td>\n",
       "      <td>450</td>\n",
       "    </tr>\n",
       "    <tr>\n",
       "      <th>2</th>\n",
       "      <td>2012-03-16 12:45:00</td>\n",
       "      <td>1800</td>\n",
       "      <td>400</td>\n",
       "      <td>1000</td>\n",
       "      <td>400</td>\n",
       "      <td>92484</td>\n",
       "      <td>400</td>\n",
       "      <td>3000</td>\n",
       "      <td>450</td>\n",
       "    </tr>\n",
       "    <tr>\n",
       "      <th>3</th>\n",
       "      <td>2012-03-16 12:50:00</td>\n",
       "      <td>1800</td>\n",
       "      <td>400</td>\n",
       "      <td>1000</td>\n",
       "      <td>400</td>\n",
       "      <td>92484</td>\n",
       "      <td>400</td>\n",
       "      <td>3000</td>\n",
       "      <td>450</td>\n",
       "    </tr>\n",
       "    <tr>\n",
       "      <th>4</th>\n",
       "      <td>2012-03-16 12:55:00</td>\n",
       "      <td>1800</td>\n",
       "      <td>400</td>\n",
       "      <td>1000</td>\n",
       "      <td>400</td>\n",
       "      <td>92484</td>\n",
       "      <td>400</td>\n",
       "      <td>3000</td>\n",
       "      <td>450</td>\n",
       "    </tr>\n",
       "  </tbody>\n",
       "</table>\n",
       "</div>"
      ],
      "text/plain": [
       "             datetime  total  total_tcp  total_http  total_udp   size  \\\n",
       "0 2012-03-16 12:35:00   1800        400        1000        400  92484   \n",
       "1 2012-03-16 12:40:00   1800        400        1000        400  92484   \n",
       "2 2012-03-16 12:45:00   1800        400        1000        400  92484   \n",
       "3 2012-03-16 12:50:00   1800        400        1000        400  92484   \n",
       "4 2012-03-16 12:55:00   1800        400        1000        400  92484   \n",
       "\n",
       "   size_tcp  size_http  size_udp  \n",
       "0       400       3000       450  \n",
       "1       400       3000       450  \n",
       "2       400       3000       450  \n",
       "3       400       3000       450  \n",
       "4       400       3000       450  "
      ]
     },
     "execution_count": 2,
     "metadata": {},
     "output_type": "execute_result"
    }
   ],
   "source": [
    "### READ DATA AND CREATE FEATURES FOR year, month, day, hour ###\n",
    "df = pd.read_csv('dataset/constant-test.csv')\n",
    "df['datetime'] = pd.to_datetime(df['datetime'], unit='s')\n",
    "df[\"total\"] = pd.to_numeric(df.total, errors='coerce')\n",
    "df[\"total_tcp\"] = pd.to_numeric(df.total_tcp, errors='coerce')\n",
    "df[\"total_http\"] = pd.to_numeric(df.total_http, errors='coerce')\n",
    "df[\"total_udp\"] = pd.to_numeric(df.total_udp, errors='coerce')\n",
    "df[\"size\"] = pd.to_numeric(df.size, errors='coerce')\n",
    "df[\"size_tcp\"] = pd.to_numeric(df.size_tcp, errors='coerce')\n",
    "df[\"size_http\"] = pd.to_numeric(df.size_http, errors='coerce')\n",
    "df[\"size_udp\"] = pd.to_numeric(df.size_udp, errors='coerce')\n",
    "df.head()"
   ]
  },
  {
   "cell_type": "code",
   "execution_count": 3,
   "metadata": {},
   "outputs": [
    {
     "data": {
      "text/plain": [
       "datetime      datetime64[ns]\n",
       "total                  int64\n",
       "total_tcp              int64\n",
       "total_http             int64\n",
       "total_udp              int64\n",
       "size                   int64\n",
       "size_tcp               int64\n",
       "size_http              int64\n",
       "size_udp               int64\n",
       "dtype: object"
      ]
     },
     "execution_count": 3,
     "metadata": {},
     "output_type": "execute_result"
    }
   ],
   "source": [
    "df.dtypes"
   ]
  },
  {
   "cell_type": "code",
   "execution_count": 4,
   "metadata": {},
   "outputs": [],
   "source": [
    "df.columns = ['timestamp','total','total_tcp','total_http','total_udp','size','size_tcp','size_http','size_udp']"
   ]
  },
  {
   "cell_type": "code",
   "execution_count": 6,
   "metadata": {},
   "outputs": [
    {
     "data": {
      "text/plain": [
       "(array([22223355, 22249730]), <a list of 2 Text xticklabel objects>)"
      ]
     },
     "execution_count": 6,
     "metadata": {},
     "output_type": "execute_result"
    },
    {
     "data": {
      "image/png": "[encoded data removed]",
      "text/plain": [
       "<Figure size 1440x432 with 1 Axes>"
      ]
     },
     "metadata": {
      "needs_background": "light"
     },
     "output_type": "display_data"
    }
   ],
   "source": [
    "df.iloc[5000:,].plot(y='size_udp',x='timestamp',figsize=(20,6))\n",
    "plt.xticks(rotation=70)"
   ]
  },
  {
   "cell_type": "code",
   "execution_count": 7,
   "metadata": {},
   "outputs": [
    {
     "data": {
      "image/png": "[encoded data removed]",
      "text/plain": [
       "<Figure size 1368x576 with 1 Axes>"
      ]
     },
     "metadata": {
      "needs_background": "light"
     },
     "output_type": "display_data"
    }
   ],
   "source": [
    "### WEEKLY AUTOCORR PLOT (5 WEEKS DEPTH) ###\n",
    "timeLags = np.arange(1,288*7*5)\n",
    "autoCorr = [df.total.autocorr(lag=dt) for dt in timeLags]\n",
    "\n",
    "plt.figure(figsize=(19,8))\n",
    "plt.plot(1.0/(288 * 7)*timeLags, autoCorr);\n",
    "plt.xlabel('time lag [weeks]'); plt.ylabel('correlation coeff', fontsize=12);"
   ]
  },
  {
   "cell_type": "code",
   "execution_count": 8,
   "metadata": {},
   "outputs": [
    {
     "data": {
      "text/html": [
       "<div>\n",
       "<style scoped>\n",
       "    .dataframe tbody tr th:only-of-type {\n",
       "        vertical-align: middle;\n",
       "    }\n",
       "\n",
       "    .dataframe tbody tr th {\n",
       "        vertical-align: top;\n",
       "    }\n",
       "\n",
       "    .dataframe thead th {\n",
       "        text-align: right;\n",
       "    }\n",
       "</style>\n",
       "<table border=\"1\" class=\"dataframe\">\n",
       "  <thead>\n",
       "    <tr style=\"text-align: right;\">\n",
       "      <th></th>\n",
       "      <th>timestamp</th>\n",
       "      <th>total</th>\n",
       "      <th>total_tcp</th>\n",
       "      <th>total_http</th>\n",
       "      <th>total_udp</th>\n",
       "      <th>size</th>\n",
       "      <th>size_tcp</th>\n",
       "      <th>size_http</th>\n",
       "      <th>size_udp</th>\n",
       "      <th>weekday</th>\n",
       "      <th>H</th>\n",
       "    </tr>\n",
       "  </thead>\n",
       "  <tbody>\n",
       "    <tr>\n",
       "      <th>0</th>\n",
       "      <td>2012-03-16 12:35:00</td>\n",
       "      <td>1800</td>\n",
       "      <td>400</td>\n",
       "      <td>1000</td>\n",
       "      <td>400</td>\n",
       "      <td>92484</td>\n",
       "      <td>400</td>\n",
       "      <td>3000</td>\n",
       "      <td>450</td>\n",
       "      <td>4</td>\n",
       "      <td>12</td>\n",
       "    </tr>\n",
       "    <tr>\n",
       "      <th>1</th>\n",
       "      <td>2012-03-16 12:40:00</td>\n",
       "      <td>1800</td>\n",
       "      <td>400</td>\n",
       "      <td>1000</td>\n",
       "      <td>400</td>\n",
       "      <td>92484</td>\n",
       "      <td>400</td>\n",
       "      <td>3000</td>\n",
       "      <td>450</td>\n",
       "      <td>4</td>\n",
       "      <td>12</td>\n",
       "    </tr>\n",
       "    <tr>\n",
       "      <th>2</th>\n",
       "      <td>2012-03-16 12:45:00</td>\n",
       "      <td>1800</td>\n",
       "      <td>400</td>\n",
       "      <td>1000</td>\n",
       "      <td>400</td>\n",
       "      <td>92484</td>\n",
       "      <td>400</td>\n",
       "      <td>3000</td>\n",
       "      <td>450</td>\n",
       "      <td>4</td>\n",
       "      <td>12</td>\n",
       "    </tr>\n",
       "    <tr>\n",
       "      <th>3</th>\n",
       "      <td>2012-03-16 12:50:00</td>\n",
       "      <td>1800</td>\n",
       "      <td>400</td>\n",
       "      <td>1000</td>\n",
       "      <td>400</td>\n",
       "      <td>92484</td>\n",
       "      <td>400</td>\n",
       "      <td>3000</td>\n",
       "      <td>450</td>\n",
       "      <td>4</td>\n",
       "      <td>12</td>\n",
       "    </tr>\n",
       "    <tr>\n",
       "      <th>4</th>\n",
       "      <td>2012-03-16 12:55:00</td>\n",
       "      <td>1800</td>\n",
       "      <td>400</td>\n",
       "      <td>1000</td>\n",
       "      <td>400</td>\n",
       "      <td>92484</td>\n",
       "      <td>400</td>\n",
       "      <td>3000</td>\n",
       "      <td>450</td>\n",
       "      <td>4</td>\n",
       "      <td>12</td>\n",
       "    </tr>\n",
       "  </tbody>\n",
       "</table>\n",
       "</div>"
      ],
      "text/plain": [
       "            timestamp  total  total_tcp  total_http  total_udp   size  \\\n",
       "0 2012-03-16 12:35:00   1800        400        1000        400  92484   \n",
       "1 2012-03-16 12:40:00   1800        400        1000        400  92484   \n",
       "2 2012-03-16 12:45:00   1800        400        1000        400  92484   \n",
       "3 2012-03-16 12:50:00   1800        400        1000        400  92484   \n",
       "4 2012-03-16 12:55:00   1800        400        1000        400  92484   \n",
       "\n",
       "   size_tcp  size_http  size_udp  weekday   H  \n",
       "0       400       3000       450        4  12  \n",
       "1       400       3000       450        4  12  \n",
       "2       400       3000       450        4  12  \n",
       "3       400       3000       450        4  12  \n",
       "4       400       3000       450        4  12  "
      ]
     },
     "execution_count": 8,
     "metadata": {},
     "output_type": "execute_result"
    }
   ],
   "source": [
    "### CREATE WEEKDAY FEATURE AND COMPUTE THE MEAN FOR WEEKDAYS AT EVERY HOURS ###\n",
    "weekday = df['timestamp'].dt.dayofweek\n",
    "df['weekday'] = weekday\n",
    "\n",
    "H = df['timestamp'].dt.hour\n",
    "df['H'] = H\n",
    "\n",
    "df.head()"
   ]
  },
  {
   "cell_type": "code",
   "execution_count": 9,
   "metadata": {},
   "outputs": [],
   "source": [
    "df['weekday_hour'] = df.weekday.astype(str) +' '+ df.H.astype(str)\n",
    "df['m_weekday'] = df.weekday_hour.replace(df[:5000].groupby('weekday_hour')['size_udp'].mean().to_dict())"
   ]
  },
  {
   "cell_type": "code",
   "execution_count": 10,
   "metadata": {},
   "outputs": [],
   "source": [
    "### CREATE GENERATOR FOR LSTM ###\n",
    "sequence_length = 288\n",
    "\n",
    "def gen_index(id_df, seq_length, seq_cols):\n",
    "\n",
    "    data_matrix =  id_df[seq_cols]\n",
    "    num_elements = data_matrix.shape[0]\n",
    "\n",
    "    for start, stop in zip(range(0, num_elements-seq_length, 1), range(seq_length, num_elements, 1)):\n",
    "        \n",
    "        yield data_matrix[stop-sequence_length:stop].values.reshape((-1,len(seq_cols)))"
   ]
  },
  {
   "cell_type": "code",
   "execution_count": 11,
   "metadata": {},
   "outputs": [],
   "source": [
    "### CREATE AND STANDARDIZE DATA FOR LSTM ### \n",
    "cnt, mean = [], []\n",
    "for sequence in gen_index(df, sequence_length, ['size_udp']):\n",
    "    cnt.append(sequence)\n",
    "for sequence in gen_index(df, sequence_length, ['m_weekday']):\n",
    "    mean.append(sequence)"
   ]
  },
  {
   "cell_type": "code",
   "execution_count": 12,
   "metadata": {},
   "outputs": [
    {
     "data": {
      "text/plain": [
       "(9988, 288, 1)"
      ]
     },
     "execution_count": 12,
     "metadata": {},
     "output_type": "execute_result"
    }
   ],
   "source": [
    "cnt, mean = np.log(cnt), np.log(mean)\n",
    "cnt = cnt - mean\n",
    "cnt.shape"
   ]
  },
  {
   "cell_type": "code",
   "execution_count": 13,
   "metadata": {},
   "outputs": [
    {
     "data": {
      "text/plain": [
       "(9988,)"
      ]
     },
     "execution_count": 13,
     "metadata": {},
     "output_type": "execute_result"
    }
   ],
   "source": [
    "### CREATE AND STANDARDIZE LABEL FOR LSTM ###\n",
    "init = df.m_weekday[sequence_length:].apply(np.log).values\n",
    "label = df.size_udp[sequence_length:].apply(np.log).values - init\n",
    "label.shape"
   ]
  },
  {
   "cell_type": "code",
   "execution_count": 14,
   "metadata": {},
   "outputs": [],
   "source": [
    "### DEFINE QUANTILE LOSS ###\n",
    "def q_loss(q,y,f):\n",
    "    e = (y-f)\n",
    "    return K.mean(K.maximum(q*e, (q-1)*e), axis=-1)"
   ]
  },
  {
   "cell_type": "code",
   "execution_count": 15,
   "metadata": {},
   "outputs": [],
   "source": [
    "### TRAIN TEST SPLIT ###\n",
    "X_train, X_test = cnt[:7000], cnt[7000:]\n",
    "y_train, y_test = label[:7000], label[7000:]"
   ]
  },
  {
   "cell_type": "code",
   "execution_count": 16,
   "metadata": {},
   "outputs": [
    {
     "name": "stderr",
     "output_type": "stream",
     "text": [
      "W0813 03:05:35.294454 139910571472704 module_wrapper.py:137] From /usr/local/lib/python3.6/dist-packages/keras/backend/tensorflow_backend.py:74: The name tf.get_default_graph is deprecated. Please use tf.compat.v1.get_default_graph instead.\n",
      "\n",
      "W0813 03:05:35.499277 139910571472704 deprecation.py:506] From /usr/local/lib/python3.6/dist-packages/keras/backend/tensorflow_backend.py:3445: calling dropout (from tensorflow.python.ops.nn_ops) with keep_prob is deprecated and will be removed in a future version.\n",
      "Instructions for updating:\n",
      "Please use `rate` instead of `keep_prob`. Rate should be set to `rate = 1 - keep_prob`.\n",
      "W0813 03:05:36.273714 139910571472704 module_wrapper.py:137] From /usr/local/lib/python3.6/dist-packages/keras/optimizers.py:790: The name tf.train.Optimizer is deprecated. Please use tf.compat.v1.train.Optimizer instead.\n",
      "\n"
     ]
    }
   ],
   "source": [
    "### CREATE MODEL ###\n",
    "losses = [lambda y,f: q_loss(0.1,y,f), lambda y,f: q_loss(0.5,y,f), lambda y,f: q_loss(0.9,y,f)]\n",
    "\n",
    "inputs = Input(shape=(X_train.shape[1], X_train.shape[2]))\n",
    "lstm = Bidirectional(LSTM(64, return_sequences=True, dropout=0.3))(inputs, training = True)\n",
    "lstm = Bidirectional(LSTM(16, return_sequences=False, dropout=0.3))(lstm, training = True)\n",
    "dense = Dense(50)(lstm)\n",
    "out10 = Dense(1)(dense)\n",
    "out50 = Dense(1)(dense)\n",
    "out90 = Dense(1)(dense)\n",
    "\n",
    "model = Model(inputs, [out10,out50,out90])\n",
    "model.compile(loss=losses, optimizer='adam', loss_weights = [0.3,0.3,0.3])"
   ]
  },
  {
   "cell_type": "code",
   "execution_count": 17,
   "metadata": {
    "scrolled": true
   },
   "outputs": [
    {
     "name": "stderr",
     "output_type": "stream",
     "text": [
      "W0813 03:05:41.531866 139910571472704 deprecation.py:323] From /usr/local/lib/python3.6/dist-packages/tensorflow_core/python/ops/math_grad.py:1423: where (from tensorflow.python.ops.array_ops) is deprecated and will be removed in a future version.\n",
      "Instructions for updating:\n",
      "Use tf.where in 2.0, which has the same broadcast rule as np.where\n"
     ]
    },
    {
     "name": "stdout",
     "output_type": "stream",
     "text": [
      "Epoch 1/10\n",
      " - 67s - loss: 0.0011 - dense_2_loss: 6.9368e-04 - dense_3_loss: 0.0014 - dense_4_loss: 0.0015\n",
      "Epoch 2/10\n",
      " - 64s - loss: 4.5578e-04 - dense_2_loss: 2.6434e-04 - dense_3_loss: 6.8683e-04 - dense_4_loss: 5.6811e-04\n",
      "Epoch 3/10\n",
      " - 64s - loss: 2.9245e-04 - dense_2_loss: 2.8755e-04 - dense_3_loss: 5.0264e-04 - dense_4_loss: 1.8465e-04\n",
      "Epoch 4/10\n",
      " - 64s - loss: 3.3057e-04 - dense_2_loss: 2.8531e-04 - dense_3_loss: 6.5315e-04 - dense_4_loss: 1.6346e-04\n",
      "Epoch 5/10\n",
      " - 64s - loss: 2.9938e-04 - dense_2_loss: 2.4049e-04 - dense_3_loss: 5.9374e-04 - dense_4_loss: 1.6372e-04\n",
      "Epoch 6/10\n",
      " - 64s - loss: 3.6692e-04 - dense_2_loss: 2.7495e-04 - dense_3_loss: 5.3898e-04 - dense_4_loss: 4.0913e-04\n",
      "Epoch 7/10\n",
      " - 64s - loss: 2.5297e-04 - dense_2_loss: 1.7159e-04 - dense_3_loss: 5.0150e-04 - dense_4_loss: 1.7014e-04\n",
      "Epoch 8/10\n",
      " - 64s - loss: 2.3596e-04 - dense_2_loss: 1.9852e-04 - dense_3_loss: 4.6595e-04 - dense_4_loss: 1.2205e-04\n",
      "Epoch 9/10\n",
      " - 64s - loss: 2.2935e-04 - dense_2_loss: 1.9122e-04 - dense_3_loss: 4.4635e-04 - dense_4_loss: 1.2692e-04\n",
      "Epoch 10/10\n",
      " - 64s - loss: 2.0618e-04 - dense_2_loss: 1.5008e-04 - dense_3_loss: 4.1629e-04 - dense_4_loss: 1.2088e-04\n"
     ]
    }
   ],
   "source": [
    "history = model.fit(X_train, [y_train,y_train,y_train], epochs=10, batch_size=128, verbose=2, shuffle=True)"
   ]
  },
  {
   "cell_type": "code",
   "execution_count": 18,
   "metadata": {},
   "outputs": [],
   "source": [
    "### QUANTILEs BOOTSTRAPPING ###\n",
    "pred_10, pred_50, pred_90 = [], [], []\n",
    "NN = K.function([model.layers[0].input, K.learning_phase()], \n",
    "                [model.layers[-3].output,model.layers[-2].output,model.layers[-1].output])\n",
    "\n",
    "# for i in tqdm.tqdm(range(0,100)):\n",
    "predd = NN([X_test, 0.5])\n",
    "pred_10.append(predd[0])\n",
    "pred_50.append(predd[1])\n",
    "pred_90.append(predd[2])\n",
    "\n",
    "pred_10 = np.asarray(pred_10)[:,:,0]\n",
    "pred_50 = np.asarray(pred_50)[:,:,0]\n",
    "pred_90 = np.asarray(pred_90)[:,:,0]"
   ]
  },
  {
   "cell_type": "code",
   "execution_count": 19,
   "metadata": {},
   "outputs": [],
   "source": [
    "### REVERSE TRANSFORM PREDICTIONS ###\n",
    "pred_90_m = np.exp(np.quantile(pred_90,0.9,axis=0) + init[len(init) - len(X_test):])\n",
    "pred_50_m = np.exp(pred_50.mean(axis=0) + init[len(init) - len(X_test)])\n",
    "pred_10_m = np.exp(np.quantile(pred_10,0.1,axis=0) + init[len(init) - len(X_test):])"
   ]
  },
  {
   "cell_type": "code",
   "execution_count": 20,
   "metadata": {},
   "outputs": [
    {
     "data": {
      "text/plain": [
       "0.02427681066626151"
      ]
     },
     "execution_count": 20,
     "metadata": {},
     "output_type": "execute_result"
    }
   ],
   "source": [
    "### EVALUATION METRIC ###\n",
    "mean_squared_log_error(np.exp(y_test + init[len(init) - len(X_test):]), pred_50_m)"
   ]
  },
  {
   "cell_type": "code",
   "execution_count": 21,
   "metadata": {},
   "outputs": [
    {
     "data": {
      "text/plain": [
       "<matplotlib.collections.PathCollection at 0x7f3ed40d89e8>"
      ]
     },
     "execution_count": 21,
     "metadata": {},
     "output_type": "execute_result"
    },
    {
     "data": {
      "image/png": "[encoded data removed]",
      "text/plain": [
       "<Figure size 1152x576 with 1 Axes>"
      ]
     },
     "metadata": {
      "needs_background": "light"
     },
     "output_type": "display_data"
    }
   ],
   "source": [
    "### PLOT QUANTILE PREDICTIONS ###\n",
    "plt.figure(figsize=(16,8))\n",
    "plt.plot(pred_90_m, color='cyan')\n",
    "plt.plot(pred_50_m, color='blue')\n",
    "plt.plot(pred_10_m, color='green')\n",
    "\n",
    "### CROSSOVER CHECK ###\n",
    "plt.scatter(np.where(np.logical_or(pred_50_m>pred_90_m, pred_50_m<pred_10_m))[0], \n",
    "            pred_50_m[np.logical_or(pred_50_m>pred_90_m, pred_50_m<pred_10_m)], c='red', s=50)"
   ]
  },
  {
   "cell_type": "code",
   "execution_count": 22,
   "metadata": {},
   "outputs": [
    {
     "data": {
      "text/plain": [
       "<matplotlib.collections.PathCollection at 0x7f3ed4057128>"
      ]
     },
     "execution_count": 22,
     "metadata": {},
     "output_type": "execute_result"
    },
    {
     "data": {
      "image/png": "[encoded data removed]",
      "text/plain": [
       "<Figure size 1152x576 with 1 Axes>"
      ]
     },
     "metadata": {
      "needs_background": "light"
     },
     "output_type": "display_data"
    }
   ],
   "source": [
    "### PLOT UNCERTAINTY INTERVAL LENGHT WITH REAL DATA ###\n",
    "plt.figure(figsize=(16,8))\n",
    "plt.plot(np.exp(y_test + init[len(init) - len(X_test):]), color='red', alpha=0.4)\n",
    "plt.scatter(range(len(pred_10_m)), pred_90_m - pred_10_m, color='green')\n",
    "plt.scatter(range(len(pred_10_m)), pred_50_m, color='blue')\n"
   ]
  },
  {
   "cell_type": "code",
   "execution_count": null,
   "metadata": {},
   "outputs": [],
   "source": [
    "y = pred_90_m - pred_10_m"
   ]
  },
  {
   "cell_type": "markdown",
   "metadata": {},
   "source": [
    "## Saving the model"
   ]
  },
  {
   "cell_type": "code",
   "execution_count": null,
   "metadata": {},
   "outputs": [],
   "source": [
    "model.save_weights('saved_weights/size_udp.h5')\n",
    "# del model"
   ]
  },
  {
   "cell_type": "markdown",
   "metadata": {},
   "source": [
    "## Reload the model"
   ]
  },
  {
   "cell_type": "code",
   "execution_count": null,
   "metadata": {},
   "outputs": [],
   "source": [
    "def q_loss(q,y,f):\n",
    "    e = (y-f)\n",
    "    return K.mean(K.maximum(q*e, (q-1)*e), axis=-1)\n",
    "\n",
    "def reload_model():\n",
    "    losses = [lambda y,f: q_loss(0.1,y,f), lambda y,f: q_loss(0.5,y,f), lambda y,f: q_loss(0.9,y,f)]\n",
    "    \n",
    "    inputs = Input(shape=(X_train.shape[1], X_train.shape[2]))\n",
    "    lstm = Bidirectional(LSTM(64, return_sequences=True, dropout=0.3))(inputs, training = True)\n",
    "    lstm = Bidirectional(LSTM(16, return_sequences=False, dropout=0.3))(lstm, training = True)\n",
    "    dense = Dense(50)(lstm)\n",
    "    out10 = Dense(1)(dense)\n",
    "    out50 = Dense(1)(dense)\n",
    "    out90 = Dense(1)(dense)\n",
    "\n",
    "    model = Model(inputs, [out10,out50,out90])\n",
    "    model.compile(loss=losses, optimizer='adam', loss_weights = [0.3,0.3,0.3])\n",
    "    return model"
   ]
  },
  {
   "cell_type": "markdown",
   "metadata": {},
   "source": [
    "## Resume Training"
   ]
  },
  {
   "cell_type": "code",
   "execution_count": null,
   "metadata": {},
   "outputs": [],
   "source": [
    "def resume_training(X_train, y_train, save_path):\n",
    "    model = reload_model()\n",
    "    print(\"Model loaded\")\n",
    "    model.load_weights(save_path)\n",
    "    history = model.fit(X_train, [y_train,y_train,y_train], epochs=1, batch_size=128, verbose=2, shuffle=True)\n",
    "    print(\"Model Trained\")\n",
    "    model.save_weights(save_path)\n",
    "    print(\"Model Saved\")\n",
    "    "
   ]
  },
  {
   "cell_type": "code",
   "execution_count": null,
   "metadata": {},
   "outputs": [],
   "source": [
    "def gen_index(id_df, seq_length, seq_cols):\n",
    "\n",
    "    data_matrix =  id_df[seq_cols]\n",
    "    num_elements = data_matrix.shape[0]\n",
    "\n",
    "    for start, stop in zip(range(0, num_elements-seq_length, 1), range(seq_length, num_elements, 1)): \n",
    "        yield data_matrix[stop-sequence_length:stop].values.reshape((-1,len(seq_cols)))\n",
    "        \n",
    "def online_training(csv_name):\n",
    "    print(\"Online Training\")\n",
    "    df = pd.read_csv(csv_name)\n",
    "    df['datetime'] = pd.to_datetime(df['datetime'], unit='s')\n",
    "    df[\"total\"] = pd.to_numeric(df.total, errors='coerce')\n",
    "    df[\"total_tcp\"] = pd.to_numeric(df.total_tcp, errors='coerce')\n",
    "    df[\"total_http\"] = pd.to_numeric(df.total_http, errors='coerce')\n",
    "    df[\"total_udp\"] = pd.to_numeric(df.total_udp, errors='coerce')\n",
    "    df[\"size\"] = pd.to_numeric(df.size, errors='coerce')\n",
    "    df[\"size_tcp\"] = pd.to_numeric(df.size_tcp, errors='coerce')\n",
    "    df[\"size_http\"] = pd.to_numeric(df.size_http, errors='coerce')\n",
    "    df[\"size_udp\"] = pd.to_numeric(df.size_udp, errors='coerce')\n",
    "    df.columns = ['timestamp','total','total_tcp','total_http','total_udp','size','size_tcp','size_http','size_udp']\n",
    "    \n",
    "    weekday = df['timestamp'].dt.dayofweek\n",
    "    df['weekday'] = weekday\n",
    "\n",
    "    H = df['timestamp'].dt.hour\n",
    "    df['H'] = H\n",
    "\n",
    "    df['weekday_hour'] = df.weekday.astype(str) +' '+ df.H.astype(str)\n",
    "    df['m_weekday'] = df.weekday_hour.replace(df[:5000].groupby('weekday_hour')['size_udp'].mean().to_dict())\n",
    "\n",
    "    sequence_length = 288\n",
    "    \n",
    "    cnt, mean = [], []\n",
    "    for sequence in gen_index(df, sequence_length, ['size_udp']):\n",
    "        cnt.append(sequence)\n",
    "    for sequence in gen_index(df, sequence_length, ['m_weekday']):\n",
    "        mean.append(sequence)\n",
    "        \n",
    "    cnt, mean = np.log(cnt), np.log(mean)\n",
    "    cnt = cnt - mean\n",
    "    \n",
    "    init = df.m_weekday[sequence_length:].apply(np.log).values\n",
    "    label = df.size_udp[sequence_length:].apply(np.log).values - init\n",
    "\n",
    "    X_train = cnt\n",
    "    y_train = label\n",
    "    \n",
    "    save_path = 'saved_weights/test.h5'\n",
    "    \n",
    "    print(\"Starting to resume training\")\n",
    "    resume_training(X_train, y_train, save_path)\n",
    "    \n",
    "    print(\"Online Training done\")\n"
   ]
  },
  {
   "cell_type": "code",
   "execution_count": null,
   "metadata": {},
   "outputs": [],
   "source": [
    "def get_prediction(input_data):\n",
    "    model = reload_model()\n",
    "    \n",
    "    pred_10, pred_50, pred_90 = [], [], []\n",
    "    NN = K.function([model.layers[0].input, K.learning_phase()], \n",
    "                    [model.layers[-3].output,model.layers[-2].output,model.layers[-1].output])\n",
    "\n",
    "    # for i in tqdm.tqdm(range(0,100)):\n",
    "    predd = NN([input_data, 0.5])\n",
    "    pred_10.append(predd[0])\n",
    "    pred_50.append(predd[1])\n",
    "    pred_90.append(predd[2])\n",
    "\n",
    "    pred_10 = np.asarray(pred_10)[:,:,0]\n",
    "    pred_50 = np.asarray(pred_50)[:,:,0]\n",
    "    pred_90 = np.asarray(pred_90)[:,:,0]\n",
    "    \n",
    "    pred_90_m = np.exp(np.quantile(pred_90,0.9,axis=0) + init[len(init) - len(X_test):])\n",
    "    pred_50_m = np.exp(pred_50.mean(axis=0) + init[len(init) - len(X_test)])\n",
    "    pred_10_m = np.exp(np.quantile(pred_10,0.1,axis=0) + init[len(init) - len(X_test):])\n",
    "    \n",
    "    \n",
    "    f_pred = np.where(np.logical_or(pred_50_m>pred_90_m, pred_50_m<pred_10_m))[0], \n",
    "        pred_50_m[np.logical_or(pred_50_m>pred_90_m, pred_50_m<pred_10_m)]\n",
    "    \n",
    "    return f_pred"
   ]
  },
  {
   "cell_type": "markdown",
   "metadata": {},
   "source": [
    "## Script to test online training"
   ]
  },
  {
   "cell_type": "code",
   "execution_count": null,
   "metadata": {},
   "outputs": [],
   "source": [
    "csv_name = 'dataset/sample-2.csv'\n",
    "online_training(csv_name)"
   ]
  }
 ],
 "metadata": {
  "kernelspec": {
   "display_name": "Python 3",
   "language": "python",
   "name": "python3"
  },
  "language_info": {
   "codemirror_mode": {
    "name": "ipython",
    "version": 3
   },
   "file_extension": ".py",
   "mimetype": "text/x-python",
   "name": "python",
   "nbconvert_exporter": "python",
   "pygments_lexer": "ipython3",
   "version": "3.6.8"
  }
 },
 "nbformat": 4,
 "nbformat_minor": 2
}
